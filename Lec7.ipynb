{
 "cells": [
  {
   "cell_type": "markdown",
   "id": "5b8360d5-4881-4407-80b7-4439d3373720",
   "metadata": {},
   "source": [
    "# MATRIX IN NUMPY"
   ]
  },
  {
   "cell_type": "code",
   "execution_count": 1,
   "id": "8b475ec0-af0a-4f72-8f53-67a99d35971d",
   "metadata": {},
   "outputs": [],
   "source": [
    "import numpy as np"
   ]
  },
  {
   "cell_type": "code",
   "execution_count": 10,
   "id": "f2a65f6e-bb74-4ca1-a177-88b6a96bbce0",
   "metadata": {},
   "outputs": [],
   "source": [
    "var = np.matrix([[1,2,3,4,5],[6,7,8,9,10]])\n",
    "var1 = np.matrix([[1,2,3,4,5],[6,7,8,9,10]])"
   ]
  },
  {
   "cell_type": "markdown",
   "id": "6f14bfe4-fa4f-40d1-829c-7409c2ccdb61",
   "metadata": {},
   "source": [
    "# While multiplying matrix no. of columns in first matrix should be equal to number of rows in second matrix"
   ]
  },
  {
   "cell_type": "code",
   "execution_count": 7,
   "id": "18d1ec18-2a56-44e7-8d0f-4001bdd37eaf",
   "metadata": {},
   "outputs": [
    {
     "name": "stdout",
     "output_type": "stream",
     "text": [
      "[[  1   4   9  16  25]\n",
      " [ 36  49  64  81 100]]\n"
     ]
    }
   ],
   "source": [
    "var2 = np.array([[1,2,3,4,5],[6,7,8,9,10]])\n",
    "var3 = np.array([[1,2,3,4,5],[6,7,8,9,10]])\n",
    "print(np.multiply(var2,var3))"
   ]
  },
  {
   "cell_type": "markdown",
   "id": "380524f1-b4e7-45a3-beed-ce337db032ab",
   "metadata": {},
   "source": [
    "# Matrix Function"
   ]
  },
  {
   "cell_type": "markdown",
   "id": "f7d446ea-199b-4c50-9f3a-78372a8c277e",
   "metadata": {},
   "source": [
    "# Transpose"
   ]
  },
  {
   "cell_type": "code",
   "execution_count": 9,
   "id": "8b67656e-4033-4a5d-ba58-6ba02b0fdc64",
   "metadata": {},
   "outputs": [
    {
     "name": "stdout",
     "output_type": "stream",
     "text": [
      "[[ 55 130]\n",
      " [130 330]]\n"
     ]
    }
   ],
   "source": [
    "print(var * var1.T)"
   ]
  },
  {
   "cell_type": "markdown",
   "id": "f508ca17-f5b4-4bc3-882b-fca9db3d9666",
   "metadata": {},
   "source": [
    "# Swapaxes"
   ]
  },
  {
   "cell_type": "code",
   "execution_count": 11,
   "id": "f3ae04b6-feaf-4b43-9bff-e725c0206f34",
   "metadata": {},
   "outputs": [
    {
     "name": "stdout",
     "output_type": "stream",
     "text": [
      "[[ 1  6]\n",
      " [ 2  7]\n",
      " [ 3  8]\n",
      " [ 4  9]\n",
      " [ 5 10]]\n"
     ]
    }
   ],
   "source": [
    "print(np.swapaxes(var,0,1))"
   ]
  },
  {
   "cell_type": "code",
   "execution_count": 14,
   "id": "eada64a4-bae9-45a5-859b-4736e93d4602",
   "metadata": {},
   "outputs": [
    {
     "name": "stdout",
     "output_type": "stream",
     "text": [
      "[[1 2]\n",
      " [3 4]]\n",
      ".........\n",
      "[[1 3]\n",
      " [2 4]]\n"
     ]
    }
   ],
   "source": [
    "varS = np.matrix([[1,2],[3,4]])\n",
    "print(varS)\n",
    "print('.........')\n",
    "print(np.swapaxes(varS,1,0))"
   ]
  },
  {
   "cell_type": "markdown",
   "id": "400c8d35-d74d-44b1-82e5-f558275c2d02",
   "metadata": {},
   "source": [
    "# Inverse"
   ]
  },
  {
   "cell_type": "code",
   "execution_count": 16,
   "id": "907bd719-d207-4e06-adf4-13fcdb885b40",
   "metadata": {},
   "outputs": [
    {
     "name": "stdout",
     "output_type": "stream",
     "text": [
      "[[-2.   1. ]\n",
      " [ 1.5 -0.5]]\n"
     ]
    }
   ],
   "source": [
    "invar = np.matrix([[1,2],[3,4]])\n",
    "print(np.linalg.inv(invar))"
   ]
  },
  {
   "cell_type": "markdown",
   "id": "dace101b-55e8-49a3-8057-d8eb4be09b18",
   "metadata": {},
   "source": [
    "# Power"
   ]
  },
  {
   "cell_type": "code",
   "execution_count": 18,
   "id": "e40c9473-fb4a-4e15-8ccc-33330e781365",
   "metadata": {},
   "outputs": [
    {
     "name": "stdout",
     "output_type": "stream",
     "text": [
      "[[ 37  54]\n",
      " [ 81 118]]\n",
      "[[1 0]\n",
      " [0 1]]\n",
      "[[ 5.5  -2.5 ]\n",
      " [-3.75  1.75]]\n"
     ]
    }
   ],
   "source": [
    "pvar = np.matrix([[1,2],[3,4]])\n",
    "print(np.linalg.matrix_power(pvar,3))\n",
    "print(np.linalg.matrix_power(pvar,0))\n",
    "print(np.linalg.matrix_power(pvar,-2))"
   ]
  },
  {
   "cell_type": "markdown",
   "id": "2e3e3388-b5d2-4e31-bbf7-9886f3a49db3",
   "metadata": {},
   "source": [
    "# Determinate"
   ]
  },
  {
   "cell_type": "code",
   "execution_count": 20,
   "id": "ae84fac1-4706-403a-ba09-b42466ef6a9a",
   "metadata": {},
   "outputs": [
    {
     "name": "stdout",
     "output_type": "stream",
     "text": [
      "-2.0000000000000004\n"
     ]
    }
   ],
   "source": [
    "dvar = np.matrix([[1,2],[3,4]])\n",
    "\n",
    "print(np.linalg.det(dvar))"
   ]
  },
  {
   "cell_type": "code",
   "execution_count": null,
   "id": "d62917cd-b741-40c2-ab01-b2c39142277d",
   "metadata": {},
   "outputs": [],
   "source": []
  }
 ],
 "metadata": {
  "kernelspec": {
   "display_name": "Python 3 (ipykernel)",
   "language": "python",
   "name": "python3"
  },
  "language_info": {
   "codemirror_mode": {
    "name": "ipython",
    "version": 3
   },
   "file_extension": ".py",
   "mimetype": "text/x-python",
   "name": "python",
   "nbconvert_exporter": "python",
   "pygments_lexer": "ipython3",
   "version": "3.11.11"
  }
 },
 "nbformat": 4,
 "nbformat_minor": 5
}

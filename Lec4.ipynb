{
 "cells": [
  {
   "cell_type": "markdown",
   "id": "ad921218-4b12-41ec-b976-e7125f7c6d72",
   "metadata": {},
   "source": [
    "# BROADCASTING WITH NUMPY ARRAYS"
   ]
  },
  {
   "cell_type": "code",
   "execution_count": 1,
   "id": "f1999f08-0689-4ad2-b770-db2402acc58c",
   "metadata": {},
   "outputs": [],
   "source": [
    "import numpy as np"
   ]
  },
  {
   "cell_type": "code",
   "execution_count": 7,
   "id": "f95bfb64-1a50-477d-acd2-1fec0a54af90",
   "metadata": {},
   "outputs": [],
   "source": [
    "uniA1 = np.array([2,4,6,8])\n",
    "uniA2 = np.array([3,6,9])\n",
    "uniA3 = np.array([[4],[5],[6]])"
   ]
  },
  {
   "cell_type": "code",
   "execution_count": 10,
   "id": "e04df569-ee12-440a-8f9e-0005583cd5a0",
   "metadata": {},
   "outputs": [
    {
     "name": "stdout",
     "output_type": "stream",
     "text": [
      "(4,) (3,) (3, 1)\n",
      "[2 4 6 8]\n",
      "[3 6 9]\n",
      "[[4]\n",
      " [5]\n",
      " [6]]\n"
     ]
    }
   ],
   "source": [
    "print(uniA1.shape, uniA2.shape,uniA3.shape)\n",
    "print(uniA1)\n",
    "print(uniA2)\n",
    "print(uniA3)"
   ]
  },
  {
   "cell_type": "markdown",
   "id": "532a18a7-7219-4ce6-9c64-958fd3312eb7",
   "metadata": {},
   "source": [
    "# Broadcasting checks the shape from right side ( It Should be same or one of them should be 1) then it will work otherwise broadcasting Fails."
   ]
  },
  {
   "cell_type": "markdown",
   "id": "82f5ef13-86fb-4432-bbea-72dd5a72e510",
   "metadata": {},
   "source": [
    "# Sum of 1d and 2d Array "
   ]
  },
  {
   "cell_type": "code",
   "execution_count": 14,
   "id": "44e37b10-858b-4227-91b3-72021886fe52",
   "metadata": {},
   "outputs": [
    {
     "name": "stdout",
     "output_type": "stream",
     "text": [
      "[[ 6  8 10 12]\n",
      " [ 7  9 11 13]\n",
      " [ 8 10 12 14]]\n"
     ]
    }
   ],
   "source": [
    "print(np.add(uniA1,uniA3))"
   ]
  },
  {
   "cell_type": "code",
   "execution_count": 16,
   "id": "76a89b34-abc3-4a00-9353-1ec5763d58ef",
   "metadata": {},
   "outputs": [
    {
     "name": "stdout",
     "output_type": "stream",
     "text": [
      "a shape: (2, 3)\n",
      "b shape: (3,)\n",
      "Result:\n",
      " [[11 22 33]\n",
      " [14 25 36]]\n"
     ]
    }
   ],
   "source": [
    "a = np.array([[1, 2, 3],\n",
    "              [4, 5, 6]])\n",
    "b = np.array([10, 20, 30])\n",
    "\n",
    "result = a + b\n",
    "\n",
    "print(\"a shape:\", a.shape)\n",
    "print(\"b shape:\", b.shape)\n",
    "print(\"Result:\\n\", result)"
   ]
  },
  {
   "cell_type": "markdown",
   "id": "881d9a03-304f-4f4d-9f70-50f5362b01cc",
   "metadata": {},
   "source": [
    "# -->> Indexing In Numpy Array"
   ]
  },
  {
   "cell_type": "code",
   "execution_count": 23,
   "id": "91c793d9-0d62-424c-9afb-ed6767f11a9c",
   "metadata": {},
   "outputs": [
    {
     "name": "stdout",
     "output_type": "stream",
     "text": [
      "[[[1 2 8]\n",
      "  [4 5 6]\n",
      "  [7 8 9]]]\n",
      "8\n"
     ]
    }
   ],
   "source": [
    "indexArr = np.array([[[1,2,8],[4,5,6],[7,8,9]]])\n",
    "print(indexArr)\n",
    "print(indexArr[0,2,1])"
   ]
  },
  {
   "cell_type": "code",
   "execution_count": 21,
   "id": "96321545-803f-4843-bbed-6c7a42481a89",
   "metadata": {},
   "outputs": [
    {
     "name": "stdout",
     "output_type": "stream",
     "text": [
      "[[0 2 1]]\n"
     ]
    }
   ],
   "source": [
    "print(np.argwhere(indexArr == 8))"
   ]
  },
  {
   "cell_type": "code",
   "execution_count": 24,
   "id": "d1d274d2-6203-463b-8675-3c4b8ad25383",
   "metadata": {},
   "outputs": [
    {
     "name": "stdout",
     "output_type": "stream",
     "text": [
      "[[0 0 2]\n",
      " [0 2 1]]\n"
     ]
    }
   ],
   "source": [
    "print(np.argwhere(indexArr == 8))"
   ]
  },
  {
   "cell_type": "code",
   "execution_count": 27,
   "id": "a8bf7557-09c7-40ca-adc7-1bf6fd343793",
   "metadata": {},
   "outputs": [
    {
     "name": "stdout",
     "output_type": "stream",
     "text": [
      "(array([0]), array([0]), array([1]))\n"
     ]
    }
   ],
   "source": [
    "print(np.where(indexArr == 2))"
   ]
  },
  {
   "cell_type": "code",
   "execution_count": 28,
   "id": "c14a7333-f52b-48dd-bbe3-9d1becbe5308",
   "metadata": {},
   "outputs": [
    {
     "name": "stdout",
     "output_type": "stream",
     "text": [
      "(array([0, 0]), array([0, 2]), array([2, 1]))\n"
     ]
    }
   ],
   "source": [
    "print(np.where(indexArr == 8))"
   ]
  },
  {
   "cell_type": "code",
   "execution_count": 31,
   "id": "5ac04c87-00b3-4b5d-80fe-a8978cb16efc",
   "metadata": {},
   "outputs": [
    {
     "name": "stdout",
     "output_type": "stream",
     "text": [
      "4\n",
      "[[1 0]]\n",
      "(array([1]), array([0]))\n"
     ]
    }
   ],
   "source": [
    "indexArr2 = np.array([[1,2,3],[4,5,6]])\n",
    "print(indexArr2[1,0])\n",
    "print(np.argwhere(indexArr2==4))\n",
    "print(np.where(indexArr2==4))"
   ]
  },
  {
   "cell_type": "markdown",
   "id": "9a0a2dad-65f5-4c05-a835-e22806e53cba",
   "metadata": {},
   "source": [
    "# -->> Slicing In Numpy Array"
   ]
  },
  {
   "cell_type": "code",
   "execution_count": 41,
   "id": "30e35a2d-cfdd-496b-8d20-047facc7302a",
   "metadata": {},
   "outputs": [
    {
     "name": "stdout",
     "output_type": "stream",
     "text": [
      "[[10 20 30]]\n"
     ]
    }
   ],
   "source": [
    "slicArr = np.array([[10, 20, 30],\n",
    "                [40, 50, 60],\n",
    "                [70, 80, 90]])\n",
    "print(slicArr[:1])\n"
   ]
  },
  {
   "cell_type": "code",
   "execution_count": 45,
   "id": "b1de3322-824f-4d0c-8436-2cca77926ab4",
   "metadata": {},
   "outputs": [
    {
     "name": "stdout",
     "output_type": "stream",
     "text": [
      "[50 60]\n"
     ]
    }
   ],
   "source": [
    "print(slicArr[1,1:])"
   ]
  },
  {
   "cell_type": "code",
   "execution_count": 42,
   "id": "eb4a5c53-c32f-4f7a-b6e4-0fc1c1fc6c3c",
   "metadata": {},
   "outputs": [
    {
     "name": "stdout",
     "output_type": "stream",
     "text": [
      "[[40 50 60]]\n"
     ]
    }
   ],
   "source": [
    "print(slicArr[1:2])"
   ]
  },
  {
   "cell_type": "code",
   "execution_count": 44,
   "id": "8135d006-c15d-4bb8-8b2c-ec12325b0721",
   "metadata": {},
   "outputs": [
    {
     "name": "stdout",
     "output_type": "stream",
     "text": [
      "[ 2  5 89]\n"
     ]
    }
   ],
   "source": [
    "slicingArr = np.array([1,2,3,4,5,6,7,89,9,10])\n",
    "print(slicingArr[1::3])"
   ]
  },
  {
   "cell_type": "markdown",
   "id": "ad1b615c-2bcc-4ac0-bdbb-af2db235d635",
   "metadata": {},
   "source": [
    "# -->> Itration In Numpy Array"
   ]
  },
  {
   "cell_type": "code",
   "execution_count": 56,
   "id": "442f9ef4-7c8c-408e-b9ce-dddeef04c981",
   "metadata": {},
   "outputs": [
    {
     "name": "stdout",
     "output_type": "stream",
     "text": [
      "[1 2 3 4 5 6 7 8]\n"
     ]
    }
   ],
   "source": [
    "itrArr = np.array([1,2,3,4,5,6,7,8])\n",
    "itrArr2 = np.array([[1,2,3,4],[5,6,7,8]])\n",
    "itrArr3 = np.array([[[1,2,3,4],[5,6,7,8]]])\n",
    "print(itrArr)"
   ]
  },
  {
   "cell_type": "code",
   "execution_count": 48,
   "id": "6c8e7614-b7d1-4a4c-8545-f1fe358e711f",
   "metadata": {},
   "outputs": [
    {
     "name": "stdout",
     "output_type": "stream",
     "text": [
      "1\n",
      "2\n",
      "3\n",
      "4\n",
      "5\n",
      "6\n",
      "7\n",
      "8\n"
     ]
    }
   ],
   "source": [
    "for val in itrArr:\n",
    "    print(val);\n",
    "    "
   ]
  },
  {
   "cell_type": "code",
   "execution_count": 52,
   "id": "9d1d25f5-002c-4501-b623-61bd5137ca3d",
   "metadata": {},
   "outputs": [
    {
     "name": "stdout",
     "output_type": "stream",
     "text": [
      "[[1 2 3 4]\n",
      " [5 6 7 8]]\n",
      "[1 2 3 4]\n",
      "1\n",
      "2\n",
      "3\n",
      "4\n",
      "[5 6 7 8]\n",
      "5\n",
      "6\n",
      "7\n",
      "8\n"
     ]
    }
   ],
   "source": [
    "for row in itrArr2:\n",
    "    print(row)\n",
    "    for val in row:\n",
    "        print(val)\n",
    "        for item in val:\n",
    "            print(item)"
   ]
  },
  {
   "cell_type": "code",
   "execution_count": 57,
   "id": "e72a376e-51f1-48dc-810f-f68fc3a74497",
   "metadata": {},
   "outputs": [
    {
     "name": "stdout",
     "output_type": "stream",
     "text": [
      "1\n",
      "2\n",
      "3\n",
      "4\n",
      "5\n",
      "6\n",
      "7\n",
      "8\n"
     ]
    }
   ],
   "source": [
    "for val in np.nditer(itrArr3):\n",
    "    print(val)"
   ]
  },
  {
   "cell_type": "code",
   "execution_count": 58,
   "id": "74ba1a16-e47f-49c4-b393-7e59abfc54a7",
   "metadata": {},
   "outputs": [
    {
     "name": "stdout",
     "output_type": "stream",
     "text": [
      "index (0, 0) : 1\n",
      "index (0, 1) : 2\n",
      "index (0, 2) : 3\n",
      "index (0, 3) : 4\n",
      "index (1, 0) : 5\n",
      "index (1, 1) : 6\n",
      "index (1, 2) : 7\n",
      "index (1, 3) : 8\n"
     ]
    }
   ],
   "source": [
    "for idx,val in np.ndenumerate(itrArr2):\n",
    "    print(f'index {idx} : {val}')"
   ]
  },
  {
   "cell_type": "code",
   "execution_count": null,
   "id": "7c6c1d5b-7ed7-41b5-b752-051083df33a2",
   "metadata": {},
   "outputs": [],
   "source": []
  }
 ],
 "metadata": {
  "kernelspec": {
   "display_name": "Python 3 (ipykernel)",
   "language": "python",
   "name": "python3"
  },
  "language_info": {
   "codemirror_mode": {
    "name": "ipython",
    "version": 3
   },
   "file_extension": ".py",
   "mimetype": "text/x-python",
   "name": "python",
   "nbconvert_exporter": "python",
   "pygments_lexer": "ipython3",
   "version": "3.11.11"
  }
 },
 "nbformat": 4,
 "nbformat_minor": 5
}

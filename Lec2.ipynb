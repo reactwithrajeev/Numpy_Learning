{
 "cells": [
  {
   "cell_type": "markdown",
   "id": "a4d8bad0-a4b9-4d10-965f-bdf04f0f4113",
   "metadata": {},
   "source": [
    "# Data Types In Numpy"
   ]
  },
  {
   "cell_type": "markdown",
   "id": "e32c0c9d-b613-4cef-a6d7-2a42700c8575",
   "metadata": {},
   "source": [
    "# Int Data Type"
   ]
  },
  {
   "cell_type": "code",
   "execution_count": 7,
   "id": "009740ab-bf97-4c7f-bed2-7190aa3556c6",
   "metadata": {},
   "outputs": [],
   "source": [
    "import numpy as np"
   ]
  },
  {
   "cell_type": "code",
   "execution_count": 9,
   "id": "386b3007-1dc0-4be7-be30-59d1223e70c3",
   "metadata": {},
   "outputs": [
    {
     "name": "stdout",
     "output_type": "stream",
     "text": [
      "data type is :  int64\n"
     ]
    }
   ],
   "source": [
    "var = np.array([1,2,5])\n",
    "print('data type is : ', var.dtype)"
   ]
  },
  {
   "cell_type": "markdown",
   "id": "66e143a0-4386-44cc-8312-4aa22b81835a",
   "metadata": {},
   "source": [
    "# Float Data Type "
   ]
  },
  {
   "cell_type": "code",
   "execution_count": 12,
   "id": "970e4719-1ba5-4376-803d-37fe08331b89",
   "metadata": {},
   "outputs": [
    {
     "name": "stdout",
     "output_type": "stream",
     "text": [
      "data Type is : float64\n"
     ]
    }
   ],
   "source": [
    "varF = np.array([5.2,6.5,7.2,4.5,.65])\n",
    "print(\"data Type is :\", varF.dtype)"
   ]
  },
  {
   "cell_type": "markdown",
   "id": "133432b3-b112-4a85-a92d-78a4fd5209ee",
   "metadata": {},
   "source": [
    "# String Data Type "
   ]
  },
  {
   "cell_type": "code",
   "execution_count": 13,
   "id": "9b9449e3-cda7-45f7-9e5a-f33b14ee3a90",
   "metadata": {},
   "outputs": [
    {
     "name": "stdout",
     "output_type": "stream",
     "text": [
      "Data Type is : <U1\n"
     ]
    }
   ],
   "source": [
    "varS = np.array(['s','g','h','j','t'])\n",
    "print('Data Type is :', varS.dtype)"
   ]
  },
  {
   "cell_type": "code",
   "execution_count": 15,
   "id": "b732efca-a10a-4d6c-aff3-7d963b8af51a",
   "metadata": {},
   "outputs": [
    {
     "name": "stdout",
     "output_type": "stream",
     "text": [
      "data Type is : <U6\n"
     ]
    }
   ],
   "source": [
    "varStr = np.array(['Rajeev','Rahul','Pinky','h'])\n",
    "print('data Type is :', varStr.dtype)"
   ]
  },
  {
   "cell_type": "code",
   "execution_count": 19,
   "id": "a6d0df9b-7e22-4828-8d6b-e4430d03f671",
   "metadata": {},
   "outputs": [
    {
     "name": "stdout",
     "output_type": "stream",
     "text": [
      "Data Type is : <U21\n"
     ]
    }
   ],
   "source": [
    "varS2 = np.array(['s','g','h','j','t',2,5,9,8])\n",
    "print('Data Type is :', varS2.dtype)"
   ]
  },
  {
   "cell_type": "markdown",
   "id": "44a64bab-e193-4ad4-9df4-712f21e87658",
   "metadata": {},
   "source": [
    "# Change Data Type "
   ]
  },
  {
   "cell_type": "code",
   "execution_count": 18,
   "id": "835abb83-5a57-4ffe-818c-7c1fa7ecb5aa",
   "metadata": {},
   "outputs": [
    {
     "name": "stdout",
     "output_type": "stream",
     "text": [
      "data type is : <U1\n"
     ]
    }
   ],
   "source": [
    "varData =  np.array([4,2,3,5], dtype=np.str_)\n",
    "print('data type is :',  varData.dtype)"
   ]
  },
  {
   "cell_type": "markdown",
   "id": "1167e1c6-6a4e-4631-acf3-d099f4a9b767",
   "metadata": {},
   "source": [
    "# Changing Data Type As A function (Converter Function)"
   ]
  },
  {
   "cell_type": "code",
   "execution_count": 23,
   "id": "0dd9fe52-5dca-4542-8628-d46c85900922",
   "metadata": {},
   "outputs": [
    {
     "name": "stdout",
     "output_type": "stream",
     "text": [
      "Data type of x : int64\n",
      "Data type of newDt : float64\n",
      "[4 5 6]\n",
      "[4. 5. 6.]\n"
     ]
    }
   ],
   "source": [
    "x = np.array([4,5,6])\n",
    "newDt = np.float64(x)\n",
    "print('Data type of x :', x.dtype)\n",
    "print('Data type of newDt :', newDt.dtype)\n",
    "print(x)\n",
    "print(newDt)"
   ]
  },
  {
   "cell_type": "markdown",
   "id": "d0aa2ecd-935e-4dc3-a4b6-b82793146d0d",
   "metadata": {},
   "source": [
    "# ASTYPE() direct dtype conversion"
   ]
  },
  {
   "cell_type": "code",
   "execution_count": 24,
   "id": "e4195c36-a677-40d0-96c1-ff0fc4bb77db",
   "metadata": {},
   "outputs": [
    {
     "name": "stdout",
     "output_type": "stream",
     "text": [
      "[4 5 6]\n",
      "[4. 5. 6.]\n"
     ]
    }
   ],
   "source": [
    "x2 = np.array([4,5,6])\n",
    "newX2 = x2.astype(float)\n",
    "print(x2)\n",
    "print(newX2)"
   ]
  },
  {
   "cell_type": "code",
   "execution_count": 25,
   "id": "b35a8c99-a3fc-41b5-9fc8-b3665bc8ffeb",
   "metadata": {},
   "outputs": [
    {
     "name": "stdout",
     "output_type": "stream",
     "text": [
      "[False  True False  True False]\n",
      "bool\n"
     ]
    }
   ],
   "source": [
    "arr = np.array([0, 1, 0, 3, 0])\n",
    "converted = arr.astype(bool)\n",
    "print(converted)\n",
    "print(converted.dtype)"
   ]
  },
  {
   "cell_type": "code",
   "execution_count": 26,
   "id": "56ad96d4-7d31-46df-971a-3c44967a67c2",
   "metadata": {},
   "outputs": [
    {
     "name": "stdout",
     "output_type": "stream",
     "text": [
      "[10 20 30]\n",
      "int64\n"
     ]
    }
   ],
   "source": [
    "arr = np.array([10.5, 20.1, 30.9])\n",
    "converted = arr.astype(int)\n",
    "print(converted)\n",
    "print(converted.dtype)"
   ]
  },
  {
   "cell_type": "code",
   "execution_count": 27,
   "id": "03b32d01-c418-49d5-87b4-fbc188f345c7",
   "metadata": {},
   "outputs": [
    {
     "name": "stdout",
     "output_type": "stream",
     "text": [
      "['3' 'Rajeev' '7.5' 'True']\n",
      "<U32\n"
     ]
    }
   ],
   "source": [
    "arr = np.array([3, 'Rajeev', 7.5, True])\n",
    "print(arr)\n",
    "print(arr.dtype)"
   ]
  },
  {
   "cell_type": "code",
   "execution_count": 28,
   "id": "a9bf6395-51dd-45bf-a535-161575dfcb26",
   "metadata": {},
   "outputs": [
    {
     "name": "stdout",
     "output_type": "stream",
     "text": [
      "[1 0 1 0]\n",
      "int64\n"
     ]
    }
   ],
   "source": [
    "arr = np.array([True, False, 1, 0])\n",
    "converted = arr.astype(int)\n",
    "print(converted)\n",
    "print(converted.dtype)"
   ]
  },
  {
   "cell_type": "code",
   "execution_count": 29,
   "id": "b75cfab4-b4c2-4b6f-a7d6-1b3672f5755c",
   "metadata": {},
   "outputs": [
    {
     "name": "stdout",
     "output_type": "stream",
     "text": [
      "[ 4.5  99.99  7.    0.  ]\n",
      "float64\n"
     ]
    }
   ],
   "source": [
    "arr = np.array(['4.5', '99.99', '7', '0'])\n",
    "converted = arr.astype(float)\n",
    "print(converted)\n",
    "print(converted.dtype)"
   ]
  },
  {
   "cell_type": "code",
   "execution_count": null,
   "id": "820d46b8-b4f9-461e-8a41-b4a222dc4569",
   "metadata": {},
   "outputs": [],
   "source": []
  }
 ],
 "metadata": {
  "kernelspec": {
   "display_name": "Python 3 (ipykernel)",
   "language": "python",
   "name": "python3"
  },
  "language_info": {
   "codemirror_mode": {
    "name": "ipython",
    "version": 3
   },
   "file_extension": ".py",
   "mimetype": "text/x-python",
   "name": "python",
   "nbconvert_exporter": "python",
   "pygments_lexer": "ipython3",
   "version": "3.11.11"
  }
 },
 "nbformat": 4,
 "nbformat_minor": 5
}

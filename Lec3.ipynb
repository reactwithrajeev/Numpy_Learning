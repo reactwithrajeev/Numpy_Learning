{
 "cells": [
  {
   "cell_type": "markdown",
   "id": "5f140004-9510-4b88-b5b6-cff4b3ede2ae",
   "metadata": {},
   "source": [
    "# Shape & Reshape in Numpy"
   ]
  },
  {
   "cell_type": "code",
   "execution_count": 1,
   "id": "16ce7254-b634-4d53-b1f7-267cd42c876b",
   "metadata": {},
   "outputs": [],
   "source": [
    "import numpy as np"
   ]
  },
  {
   "cell_type": "markdown",
   "id": "c5dfd8e7-af27-4555-9c3a-e3290fd720ba",
   "metadata": {},
   "source": [
    "# Shape Function"
   ]
  },
  {
   "cell_type": "code",
   "execution_count": 5,
   "id": "3dc9aa15-8088-47fa-a9c8-b1d596c9f017",
   "metadata": {},
   "outputs": [
    {
     "name": "stdout",
     "output_type": "stream",
     "text": [
      "[[1 2 5 4]\n",
      " [1 2 3 8]]\n",
      "(2, 4)\n"
     ]
    }
   ],
   "source": [
    "arr = np.array([[1,2,5,4],[1,2,3,8]])\n",
    "print(arr)\n",
    "print(arr.shape)"
   ]
  },
  {
   "cell_type": "code",
   "execution_count": 7,
   "id": "6fc72289-64cd-44b3-b32e-4d6b50029918",
   "metadata": {},
   "outputs": [
    {
     "name": "stdout",
     "output_type": "stream",
     "text": [
      "[[[[1 2 3 5]]]]\n",
      "(1, 1, 1, 4)\n"
     ]
    }
   ],
   "source": [
    "arr2 = np.array([1,2,3,5], ndmin=4)\n",
    "print(arr2)\n",
    "print(arr2.shape)"
   ]
  },
  {
   "cell_type": "code",
   "execution_count": 11,
   "id": "9202532e-65ed-4b79-abcc-35ec3342e011",
   "metadata": {},
   "outputs": [
    {
     "name": "stdout",
     "output_type": "stream",
     "text": [
      "[2 3 4 5 6 7 8 9]\n",
      "(8,)\n"
     ]
    }
   ],
   "source": [
    "arr3 = np.arange(2,10)\n",
    "print(arr3)\n",
    "print(arr3.shape)"
   ]
  },
  {
   "cell_type": "markdown",
   "id": "c02a434c-fc85-4330-9cf1-9a05cd730ecb",
   "metadata": {},
   "source": [
    "# RESHAPE Function"
   ]
  },
  {
   "cell_type": "code",
   "execution_count": 19,
   "id": "88b93a6a-3e50-4ebf-8904-f88a9c855170",
   "metadata": {},
   "outputs": [
    {
     "name": "stdout",
     "output_type": "stream",
     "text": [
      "[1 2 3 4 5 6]\n",
      "[[1 2 3]\n",
      " [4 5 6]]\n",
      "[1 2 3 4 5 6]\n"
     ]
    }
   ],
   "source": [
    "var = np.array([1,2,3,4,5,6])\n",
    "print(var)\n",
    "print(var.reshape(2,3))\n",
    "print(var.reshape(-1))"
   ]
  },
  {
   "cell_type": "code",
   "execution_count": 22,
   "id": "b3ea7303-0cf3-4320-b5da-7b8ba5f8e2f5",
   "metadata": {},
   "outputs": [
    {
     "name": "stdout",
     "output_type": "stream",
     "text": [
      "[ 1  2  3  4  5  6  7  8  9 10 11 12]\n",
      "[[ 1  2  3  4]\n",
      " [ 5  6  7  8]\n",
      " [ 9 10 11 12]]\n"
     ]
    }
   ],
   "source": [
    "newArr = np.arange(1,13)\n",
    "print(newArr)\n",
    "\n",
    "reshapedNewArr = newArr.reshape(3,4)\n",
    "print(reshapedNewArr)"
   ]
  },
  {
   "cell_type": "code",
   "execution_count": 24,
   "id": "7b2ccf86-e4ac-47b3-af38-b1bba84840d0",
   "metadata": {},
   "outputs": [
    {
     "name": "stdout",
     "output_type": "stream",
     "text": [
      "[[[ 1  2  3]\n",
      "  [ 4  5  6]]\n",
      "\n",
      " [[ 7  8  9]\n",
      "  [10 11 12]]]\n"
     ]
    }
   ],
   "source": [
    "newArr2 = np.arange(1,13)\n",
    "resNewArr2 = newArr2.reshape(2,2,3)\n",
    "print(resNewArr2)"
   ]
  },
  {
   "cell_type": "code",
   "execution_count": 27,
   "id": "449c4e85-36a3-4fa3-b6fb-2dda5c28e735",
   "metadata": {},
   "outputs": [
    {
     "name": "stdout",
     "output_type": "stream",
     "text": [
      "[[[[[[[[[[[[1 2 3 4 5]]]]]]]]]]]]\n",
      "[1 2 3 4 5]\n"
     ]
    }
   ],
   "source": [
    "multArr = np.array([1,2,3,4,5], ndmin=12)\n",
    "print(multArr)\n",
    "\n",
    "resMultArr = multArr.reshape(-1)\n",
    "print(resMultArr)"
   ]
  },
  {
   "cell_type": "code",
   "execution_count": 31,
   "id": "03b49a33-cbd5-47ff-a95e-7f6440690598",
   "metadata": {},
   "outputs": [
    {
     "name": "stdout",
     "output_type": "stream",
     "text": [
      "[ 1  2  3  4  5  6  7  8  9 10 11 12]\n",
      "[[ 1  2  3]\n",
      " [ 4  5  6]\n",
      " [ 7  8  9]\n",
      " [10 11 12]]\n",
      "[[ 1  2]\n",
      " [ 3  4]\n",
      " [ 5  6]\n",
      " [ 7  8]\n",
      " [ 9 10]\n",
      " [11 12]]\n"
     ]
    }
   ],
   "source": [
    "newArr3 = np.arange(1,13)\n",
    "print(newArr3)\n",
    "\n",
    "resNewArr3 = newArr3.reshape(4,-1)\n",
    "res2NewArr3 = newArr3.reshape(6,-1)\n",
    "print(resNewArr3)\n",
    "print(res2NewArr3)"
   ]
  },
  {
   "cell_type": "markdown",
   "id": "ed2258c9-d8ef-4300-95ea-0be03d27ff93",
   "metadata": {},
   "source": [
    "# ARITHMETIC  OPERATION IN NUMPY"
   ]
  },
  {
   "cell_type": "code",
   "execution_count": 33,
   "id": "686890d4-43fb-46ce-92a5-96449fed99ce",
   "metadata": {},
   "outputs": [
    {
     "name": "stdout",
     "output_type": "stream",
     "text": [
      "[4 5 6 7]\n"
     ]
    }
   ],
   "source": [
    "atArr = np.array([1,2,3,4])\n",
    "\n",
    "arrAdd = atArr + 3\n",
    "print(arrAdd)"
   ]
  },
  {
   "cell_type": "code",
   "execution_count": 35,
   "id": "c5d17fc5-55a3-40a4-ac21-930c8cc29e78",
   "metadata": {},
   "outputs": [
    {
     "name": "stdout",
     "output_type": "stream",
     "text": [
      "[ 13  47  81 100]\n"
     ]
    }
   ],
   "source": [
    "atArr2 = np.array([1,2,3,4])\n",
    "atArr3 = np.array([12,45,78,96])\n",
    "\n",
    "arrAdd2 = atArr2 + atArr3\n",
    "print(arrAdd2)"
   ]
  },
  {
   "cell_type": "code",
   "execution_count": 45,
   "id": "99ea5a37-25f6-47fc-858f-02b9dee1e653",
   "metadata": {},
   "outputs": [
    {
     "name": "stdout",
     "output_type": "stream",
     "text": [
      "[ 24  90 156 126]\n"
     ]
    }
   ],
   "source": [
    "add1 = np.array([12,45,78,63])\n",
    "add2 = np.array([12,45,78,63])\n",
    "\n",
    "addOfArr = np.add(add1,add2)\n",
    "print(addOfArr)"
   ]
  },
  {
   "cell_type": "code",
   "execution_count": 57,
   "id": "73a60bba-3299-403f-a83b-b3eeba312d03",
   "metadata": {},
   "outputs": [
    {
     "name": "stdout",
     "output_type": "stream",
     "text": [
      "[[ 5  7  9  8]\n",
      " [ 9 11 13 15]]\n"
     ]
    }
   ],
   "source": [
    "Hello = np.array([[1,2,3,4],[5,6,7,8]])\n",
    "hello2 = np.array([[4,5,6,4],[4,5,6,7]])\n",
    "\n",
    "addHello = Hello + hello2\n",
    "print(addHello)"
   ]
  },
  {
   "cell_type": "markdown",
   "id": "3a21c4f6-9a2f-4e05-b173-7a8f8ff614e7",
   "metadata": {},
   "source": [
    "# Subtraction "
   ]
  },
  {
   "cell_type": "code",
   "execution_count": 36,
   "id": "24756f18-227d-471b-94e4-2a88990366d4",
   "metadata": {},
   "outputs": [
    {
     "name": "stdout",
     "output_type": "stream",
     "text": [
      "[-5 -4 -3 -2]\n"
     ]
    }
   ],
   "source": [
    "arrArit = np.array([1,2,3,4])\n",
    "\n",
    "subArr = arrArit - 6\n",
    "print(subArr)"
   ]
  },
  {
   "cell_type": "code",
   "execution_count": 47,
   "id": "76b5c2ce-61f1-4cda-a61c-9f3e01b9ac9e",
   "metadata": {},
   "outputs": [
    {
     "name": "stdout",
     "output_type": "stream",
     "text": [
      "[0 0 0 0]\n"
     ]
    }
   ],
   "source": [
    "subOfArr = np.subtract(add1,add2)\n",
    "print(subOfArr)"
   ]
  },
  {
   "cell_type": "markdown",
   "id": "3b2506b5-76c0-468f-a881-55ee69ea5d7c",
   "metadata": {},
   "source": [
    "# Multipy"
   ]
  },
  {
   "cell_type": "code",
   "execution_count": 37,
   "id": "d0b28bec-f6ba-4193-bfab-881480d31cad",
   "metadata": {},
   "outputs": [
    {
     "name": "stdout",
     "output_type": "stream",
     "text": [
      "[ 6 12 18 24]\n"
     ]
    }
   ],
   "source": [
    "arrArit2 = np.array([1,2,3,4])\n",
    "\n",
    "mulArr = arrArit * 6\n",
    "print(mulArr)"
   ]
  },
  {
   "cell_type": "code",
   "execution_count": 48,
   "id": "7074e952-7ccf-45af-9da5-8ef74a446951",
   "metadata": {},
   "outputs": [
    {
     "name": "stdout",
     "output_type": "stream",
     "text": [
      "[ 144 2025 6084 3969]\n"
     ]
    }
   ],
   "source": [
    "mulOfArr = np.multiply(add1,add2)\n",
    "print(mulOfArr)"
   ]
  },
  {
   "cell_type": "markdown",
   "id": "00c84b6b-917d-41f5-a848-4b5bad20e0c1",
   "metadata": {},
   "source": [
    "# Division"
   ]
  },
  {
   "cell_type": "code",
   "execution_count": 41,
   "id": "b5aabe0a-eacc-405a-98c1-b41d21d5494b",
   "metadata": {},
   "outputs": [
    {
     "name": "stdout",
     "output_type": "stream",
     "text": [
      "[ 6.   9.  19.5 24.  12. ]\n",
      "[ 6  9 19 24 12]\n",
      "float64\n",
      "int64\n"
     ]
    }
   ],
   "source": [
    "arrArit3 = np.array([24,36,78,96,48])\n",
    "\n",
    "divArr = arrArit3 / 4\n",
    "divArr1 = arrArit3 // 4\n",
    "print(divArr)\n",
    "print(divArr1)\n",
    "print (divArr.dtype)\n",
    "print (divArr1.dtype)"
   ]
  },
  {
   "cell_type": "code",
   "execution_count": 49,
   "id": "6a8f1f50-92c7-404c-9515-a21b2e399de4",
   "metadata": {},
   "outputs": [
    {
     "name": "stdout",
     "output_type": "stream",
     "text": [
      "[1. 1. 1. 1.]\n"
     ]
    }
   ],
   "source": [
    "divOfArr = np.divide(add1,add2)\n",
    "print(divOfArr)"
   ]
  },
  {
   "cell_type": "markdown",
   "id": "4cb43843-56b7-4359-8b4d-518dd288314a",
   "metadata": {},
   "source": [
    "# Modulus "
   ]
  },
  {
   "cell_type": "code",
   "execution_count": 43,
   "id": "0221c329-283d-40f2-acaf-838ca2b2677a",
   "metadata": {},
   "outputs": [
    {
     "name": "stdout",
     "output_type": "stream",
     "text": [
      "[0 0 2 0 0]\n"
     ]
    }
   ],
   "source": [
    "arrArit4 = np.array([24,36,78,96,48])\n",
    "\n",
    "modArr = arrArit4 % 4\n",
    "print(modArr)"
   ]
  },
  {
   "cell_type": "code",
   "execution_count": 50,
   "id": "994fa12a-de5b-4f11-9066-3eb7cb3772b8",
   "metadata": {},
   "outputs": [
    {
     "name": "stdout",
     "output_type": "stream",
     "text": [
      "[0 0 0 0]\n"
     ]
    }
   ],
   "source": [
    "modOfArr = np.mod(add1,add2)\n",
    "print(modOfArr)"
   ]
  },
  {
   "cell_type": "markdown",
   "id": "d88fe07c-646f-4175-95ab-5484b236a475",
   "metadata": {},
   "source": [
    "# Power "
   ]
  },
  {
   "cell_type": "code",
   "execution_count": 51,
   "id": "edfd755d-d41c-43b1-b6ef-6f2b077a221f",
   "metadata": {},
   "outputs": [
    {
     "name": "stdout",
     "output_type": "stream",
     "text": [
      "[       8916100448256  2604998672350111773                    0\n",
      " -4675932718989443137]\n"
     ]
    }
   ],
   "source": [
    "powOfArr = np.power(add1,add2)\n",
    "print(powOfArr)"
   ]
  },
  {
   "cell_type": "markdown",
   "id": "124dc0f4-9df9-4c14-85f0-868d50e9d651",
   "metadata": {},
   "source": [
    "# Reciprocal "
   ]
  },
  {
   "cell_type": "code",
   "execution_count": 60,
   "id": "3ed38e3f-cecd-408e-8b68-18515fd21467",
   "metadata": {},
   "outputs": [
    {
     "name": "stdout",
     "output_type": "stream",
     "text": [
      "[1.   0.5  0.25]\n"
     ]
    }
   ],
   "source": [
    "Hello = np.array([1, 2, 4])\n",
    "recHello = np.reciprocal(Hello.astype(float))  \n",
    "print(recHello)"
   ]
  },
  {
   "cell_type": "markdown",
   "id": "e490d061-7da4-4347-9ea7-c00c455792a0",
   "metadata": {},
   "source": [
    "# BASICS ARITHMETIC FUNCTIONS "
   ]
  },
  {
   "cell_type": "code",
   "execution_count": 67,
   "id": "c0d8db45-4f0b-40ee-9156-835334b0dfde",
   "metadata": {},
   "outputs": [],
   "source": [
    "uniArr = np.array([4,5,6,7,8,9])\n",
    "\n",
    "uni2dArr = np.array([[1,2,3,4],[9,5,7,8]])"
   ]
  },
  {
   "cell_type": "markdown",
   "id": "90cc50d9-ccbd-4770-8a26-24d3e1daa679",
   "metadata": {},
   "source": [
    "# MIN FUNCTION"
   ]
  },
  {
   "cell_type": "code",
   "execution_count": 71,
   "id": "b795d9eb-8891-4b2a-beff-a00fe171baa8",
   "metadata": {},
   "outputs": [
    {
     "name": "stdout",
     "output_type": "stream",
     "text": [
      "4\n",
      "4\n",
      "[[1 2 3 4]\n",
      " [9 5 7 8]]\n",
      "[1 5]\n",
      "[1 2 3 4]\n"
     ]
    }
   ],
   "source": [
    "print(uniArr.min())\n",
    "print(np.min(uniArr))\n",
    "print(uni2dArr)\n",
    "print(np.min(uni2dArr,axis=1))\n",
    "print(np.min(uni2dArr,axis=0))"
   ]
  },
  {
   "cell_type": "markdown",
   "id": "2e6d1201-be89-4c1f-abcc-80b3ba47ba94",
   "metadata": {},
   "source": [
    "# MAX FUNCTIONS"
   ]
  },
  {
   "cell_type": "code",
   "execution_count": 64,
   "id": "6eca5929-735f-4768-9702-a2f3fd33ce89",
   "metadata": {},
   "outputs": [
    {
     "name": "stdout",
     "output_type": "stream",
     "text": [
      "9\n",
      "9\n"
     ]
    }
   ],
   "source": [
    "print(uniArr.max())\n",
    "print(np.max(uniArr))"
   ]
  },
  {
   "cell_type": "markdown",
   "id": "173e8cc5-207a-42de-b734-bd016db75b41",
   "metadata": {},
   "source": [
    "# ARG - Min/Max Function "
   ]
  },
  {
   "cell_type": "code",
   "execution_count": 65,
   "id": "17999c56-2ad6-4fe9-89d2-f1812d7f5986",
   "metadata": {},
   "outputs": [
    {
     "name": "stdout",
     "output_type": "stream",
     "text": [
      "0\n"
     ]
    }
   ],
   "source": [
    "print(uniArr.argmin())"
   ]
  },
  {
   "cell_type": "code",
   "execution_count": 66,
   "id": "d60d4a53-b23f-4304-8d1c-0438c5d5e5dc",
   "metadata": {},
   "outputs": [
    {
     "name": "stdout",
     "output_type": "stream",
     "text": [
      "5\n"
     ]
    }
   ],
   "source": [
    "print(np.argmax(uniArr))"
   ]
  },
  {
   "cell_type": "code",
   "execution_count": 79,
   "id": "e96c9ac3-947b-46f7-8c1b-dd6d17e5af37",
   "metadata": {},
   "outputs": [
    {
     "name": "stdout",
     "output_type": "stream",
     "text": [
      "[[1 2 3 4]\n",
      " [9 5 7 8]]\n",
      "[3 0]\n"
     ]
    }
   ],
   "source": [
    "print(uni2dArr)\n",
    "print(np.argmax(uni2dArr,axis=1))"
   ]
  },
  {
   "cell_type": "markdown",
   "id": "53be03e8-f7fe-47f8-baf4-67f78b29c2f8",
   "metadata": {},
   "source": [
    "# SQRT Function"
   ]
  },
  {
   "cell_type": "code",
   "execution_count": 81,
   "id": "3226b04d-70a0-4b64-97aa-4a17901391b4",
   "metadata": {},
   "outputs": [
    {
     "name": "stdout",
     "output_type": "stream",
     "text": [
      "[2.   2.24 2.45 2.65 2.83 3.  ]\n"
     ]
    }
   ],
   "source": [
    "print(np.round(np.sqrt(uniArr),2))"
   ]
  },
  {
   "cell_type": "markdown",
   "id": "ef0a47d3-5457-470e-b844-24737ddcfacb",
   "metadata": {},
   "source": [
    "# Sin function"
   ]
  },
  {
   "cell_type": "code",
   "execution_count": 82,
   "id": "f64ffac4-a596-4329-8b8f-9e6cfff25855",
   "metadata": {},
   "outputs": [
    {
     "name": "stdout",
     "output_type": "stream",
     "text": [
      "[-0.7568025  -0.95892427 -0.2794155   0.6569866   0.98935825  0.41211849]\n"
     ]
    }
   ],
   "source": [
    "print(np.sin(uniArr))"
   ]
  },
  {
   "cell_type": "markdown",
   "id": "cfbbc8fb-1490-4928-b7fb-e633f9f16f2c",
   "metadata": {},
   "source": [
    "# Cos function "
   ]
  },
  {
   "cell_type": "code",
   "execution_count": 83,
   "id": "284e48ca-114b-4772-9fe5-76c540e44335",
   "metadata": {},
   "outputs": [
    {
     "name": "stdout",
     "output_type": "stream",
     "text": [
      "[-0.65364362  0.28366219  0.96017029  0.75390225 -0.14550003 -0.91113026]\n"
     ]
    }
   ],
   "source": [
    "print(np.cos(uniArr))"
   ]
  },
  {
   "cell_type": "markdown",
   "id": "3077189b-0ed4-4853-a3b4-552a5a31216f",
   "metadata": {},
   "source": [
    "# Cum Sum Function "
   ]
  },
  {
   "cell_type": "code",
   "execution_count": 85,
   "id": "5516c262-948f-482b-8732-56849cd3c74b",
   "metadata": {},
   "outputs": [
    {
     "name": "stdout",
     "output_type": "stream",
     "text": [
      "[4 5 6 7 8 9]\n",
      "[ 4  9 15 22 30 39]\n"
     ]
    }
   ],
   "source": [
    "print(uniArr)\n",
    "print(np.cumsum(uniArr))"
   ]
  },
  {
   "cell_type": "code",
   "execution_count": null,
   "id": "47481a26-91af-4f28-ab8e-eeeaa1c62c17",
   "metadata": {},
   "outputs": [],
   "source": []
  }
 ],
 "metadata": {
  "kernelspec": {
   "display_name": "Python 3 (ipykernel)",
   "language": "python",
   "name": "python3"
  },
  "language_info": {
   "codemirror_mode": {
    "name": "ipython",
    "version": 3
   },
   "file_extension": ".py",
   "mimetype": "text/x-python",
   "name": "python",
   "nbconvert_exporter": "python",
   "pygments_lexer": "ipython3",
   "version": "3.11.11"
  }
 },
 "nbformat": 4,
 "nbformat_minor": 5
}

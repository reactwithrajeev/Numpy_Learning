{
 "cells": [
  {
   "cell_type": "markdown",
   "id": "ad4aeda3-3fa0-44a9-b063-fc008abc883b",
   "metadata": {},
   "source": [
    "# Numpy In Python is a package which is used to do scintific calculation"
   ]
  },
  {
   "cell_type": "markdown",
   "id": "092b2fe4-6f7b-456b-afb7-6a15ea6e8d20",
   "metadata": {},
   "source": [
    "# Diffrence between Numpy Array And python list\n",
    "    # Consumes Less Memory\n",
    "    # Fast As Compared to python List\n",
    "    # Convinient to use\n",
    "    # List Can Diffrent Data Types as Value\n",
    "    # "
   ]
  },
  {
   "cell_type": "markdown",
   "id": "6e362e62-5829-4387-9771-f2c2e6d63ca1",
   "metadata": {},
   "source": [
    "# How To Create Array In Numpy"
   ]
  },
  {
   "cell_type": "code",
   "execution_count": 2,
   "id": "eaac435c-95ef-4598-88d6-1d31e4eaed97",
   "metadata": {},
   "outputs": [],
   "source": [
    "import numpy as np"
   ]
  },
  {
   "cell_type": "code",
   "execution_count": 8,
   "id": "dd929a72-6a38-4bd2-85e9-d5663ad10ece",
   "metadata": {},
   "outputs": [
    {
     "name": "stdout",
     "output_type": "stream",
     "text": [
      "[1 2 3] Type of arr1 : <class 'numpy.ndarray'> arr1 Dimension : 1\n"
     ]
    }
   ],
   "source": [
    "arr1 = np.array([1,2,3])\n",
    "print(arr1, \"Type of arr1 :\", type(arr1),\"arr1 Dimension :\", arr1.ndim)"
   ]
  },
  {
   "cell_type": "code",
   "execution_count": 11,
   "id": "0e68fda2-7d20-4f80-ae05-7c1d35e7deaf",
   "metadata": {},
   "outputs": [
    {
     "name": "stdin",
     "output_type": "stream",
     "text": [
      "Enter Your Number: 6\n"
     ]
    },
    {
     "name": "stdout",
     "output_type": "stream",
     "text": [
      "this is an array : [1 2 3 4 5]\n",
      "this is Type of arr2 : <class 'numpy.ndarray'>\n",
      "this is Dimension of arr2 : 1\n"
     ]
    }
   ],
   "source": [
    "list = []\n",
    "n = int(input(\"Enter Your Number:\"))\n",
    "for i in range (1,n):\n",
    "        list.append(i)\n",
    "\n",
    "arr2 = np.array(list)\n",
    "print('this is an array :',arr2)\n",
    "print('this is Type of arr2 :',type(arr2))\n",
    "print('this is Dimension of arr2 :',arr2.ndim)"
   ]
  },
  {
   "cell_type": "markdown",
   "id": "c9381e79-e4ba-485a-8721-18f58f31a48b",
   "metadata": {},
   "source": [
    "# One Dimensional Array"
   ]
  },
  {
   "cell_type": "code",
   "execution_count": 13,
   "id": "64989fbe-91c0-48d3-bdbb-3c63b3831cb5",
   "metadata": {},
   "outputs": [
    {
     "name": "stdout",
     "output_type": "stream",
     "text": [
      "Dimesion is : 1\n"
     ]
    }
   ],
   "source": [
    "arrOne = np.array([12,45,78,95])\n",
    "print('Dimesion is :', arrOne.ndim)"
   ]
  },
  {
   "cell_type": "markdown",
   "id": "770684c6-5897-4d1a-9cfc-83be495cefb4",
   "metadata": {},
   "source": [
    "# Two Dimensional Array"
   ]
  },
  {
   "cell_type": "code",
   "execution_count": 15,
   "id": "6a45c041-8f5e-4f2d-970a-e8702ac7f368",
   "metadata": {},
   "outputs": [
    {
     "name": "stdout",
     "output_type": "stream",
     "text": [
      "Dimension is : 2\n"
     ]
    }
   ],
   "source": [
    "arrTwo = np.array([[1,2,3],[4,5,6]])\n",
    "print('Dimension is :', arrTwo.ndim)"
   ]
  },
  {
   "cell_type": "markdown",
   "id": "47b2365a-7308-497c-9071-266a52b50752",
   "metadata": {},
   "source": [
    "# Three Dimesional Array"
   ]
  },
  {
   "cell_type": "code",
   "execution_count": 19,
   "id": "be46faca-95f0-4e95-b0d2-9b58a2675097",
   "metadata": {},
   "outputs": [
    {
     "name": "stdout",
     "output_type": "stream",
     "text": [
      "Dimension is : 3\n"
     ]
    }
   ],
   "source": [
    "arrThree = np.array([[[1,2,3,4,5],[1,2,3,5,6]]])\n",
    "print(\"Dimension is :\", arrThree.ndim)"
   ]
  },
  {
   "cell_type": "markdown",
   "id": "769245e1-222d-49fe-a836-9ab8c8ac23f6",
   "metadata": {},
   "source": [
    "# Multi dimensional array "
   ]
  },
  {
   "cell_type": "code",
   "execution_count": 20,
   "id": "36a6012a-b736-4fb5-b00b-8fd7b3b6c3e2",
   "metadata": {},
   "outputs": [
    {
     "name": "stdout",
     "output_type": "stream",
     "text": [
      "[[[[[[1 2 3 4 5]]]]]] Dimension is : 6\n"
     ]
    }
   ],
   "source": [
    "arrMD = np.array(list,ndmin = 6)\n",
    "print(arrMD, 'Dimension is :',arrMD.ndim)"
   ]
  },
  {
   "cell_type": "markdown",
   "id": "52f3a0e4-b1f8-4357-80b4-a568e8896524",
   "metadata": {},
   "source": [
    "# Special Types Of Numpy Arrays "
   ]
  },
  {
   "cell_type": "markdown",
   "id": "970e3eed-2bca-443a-a0ff-294ef56282ae",
   "metadata": {},
   "source": [
    "# Array Filled With Zeros (0)"
   ]
  },
  {
   "cell_type": "code",
   "execution_count": 33,
   "id": "9973cf45-1ee2-4230-bc27-0a3d896673f4",
   "metadata": {},
   "outputs": [
    {
     "name": "stdout",
     "output_type": "stream",
     "text": [
      "[[[0. 0. 0. 0. 0.]\n",
      "  [0. 0. 0. 0. 0.]\n",
      "  [0. 0. 0. 0. 0.]\n",
      "  [0. 0. 0. 0. 0.]]] dimesion is : 3\n"
     ]
    }
   ],
   "source": [
    "arrZeros = np.zeros((1,4,5))\n",
    "print(arrZeros, \"dimesion is :\" , arrZeros.ndim)"
   ]
  },
  {
   "cell_type": "markdown",
   "id": "4e5d9273-4c65-4465-83f0-33ed3ce35bd7",
   "metadata": {},
   "source": [
    "# Array Filled With Ones (1)"
   ]
  },
  {
   "cell_type": "code",
   "execution_count": 36,
   "id": "650e1a8d-f3ea-448e-bc8b-871809469629",
   "metadata": {},
   "outputs": [
    {
     "name": "stdout",
     "output_type": "stream",
     "text": [
      "[1. 1. 1. 1.] Dimension is : 1\n"
     ]
    }
   ],
   "source": [
    "arrOnes = np.ones((4))\n",
    "print(arrOnes, \"Dimension is :\", arrOnes.ndim)"
   ]
  },
  {
   "cell_type": "markdown",
   "id": "95ba0414-d1e8-42ac-9bd2-eb8efa9546a3",
   "metadata": {},
   "source": [
    "# Empty Array"
   ]
  },
  {
   "cell_type": "code",
   "execution_count": 37,
   "id": "96a282c5-f1fd-4c2b-9416-21e41b60e724",
   "metadata": {},
   "outputs": [
    {
     "name": "stdout",
     "output_type": "stream",
     "text": [
      "[7.74860419e-304 7.74860419e-304 7.74860419e-304]\n"
     ]
    }
   ],
   "source": [
    "arrEm = np.empty(3)\n",
    "print(arrEm)"
   ]
  },
  {
   "cell_type": "markdown",
   "id": "efeb9e0c-06c2-487b-94e1-4aa033536f78",
   "metadata": {},
   "source": [
    "# Arange Array"
   ]
  },
  {
   "cell_type": "code",
   "execution_count": 45,
   "id": "41775ecc-abc7-463b-b29f-93238239a7c0",
   "metadata": {},
   "outputs": [
    {
     "name": "stdout",
     "output_type": "stream",
     "text": [
      "[[1 2 3 4]\n",
      " [5 6 7 8]]\n"
     ]
    }
   ],
   "source": [
    "arrArn = np.arange(1,9).reshape(2,4)\n",
    "print(arrArn)"
   ]
  },
  {
   "cell_type": "markdown",
   "id": "be959a4a-0bf7-4f44-b4af-f49b6a667d1b",
   "metadata": {},
   "source": [
    "# Diagonal Array "
   ]
  },
  {
   "cell_type": "code",
   "execution_count": 50,
   "id": "d5138dcd-228f-40ec-a1b2-30f4b84eeace",
   "metadata": {},
   "outputs": [
    {
     "name": "stdout",
     "output_type": "stream",
     "text": [
      "[[1. 0. 0. 0. 0. 0.]\n",
      " [0. 1. 0. 0. 0. 0.]\n",
      " [0. 0. 1. 0. 0. 0.]\n",
      " [0. 0. 0. 1. 0. 0.]\n",
      " [0. 0. 0. 0. 1. 0.]\n",
      " [0. 0. 0. 0. 0. 1.]]\n",
      "[[8. 0. 0. 0. 0. 0.]\n",
      " [0. 8. 0. 0. 0. 0.]\n",
      " [0. 0. 8. 0. 0. 0.]\n",
      " [0. 0. 0. 8. 0. 0.]\n",
      " [0. 0. 0. 0. 8. 0.]\n",
      " [0. 0. 0. 0. 0. 8.]]\n"
     ]
    }
   ],
   "source": [
    "digArr = np.eye(6)\n",
    "print(digArr)\n",
    "np.fill_diagonal(digArr,8)\n",
    "print(digArr)"
   ]
  },
  {
   "cell_type": "markdown",
   "id": "9eac80fc-2a9f-483c-885f-1218d1466a7c",
   "metadata": {},
   "source": [
    "# Linspace "
   ]
  },
  {
   "cell_type": "code",
   "execution_count": 55,
   "id": "d8b1026e-2552-4f75-9b0a-b1795c1d59dd",
   "metadata": {},
   "outputs": [
    {
     "name": "stdout",
     "output_type": "stream",
     "text": [
      "[[1.  1.4]\n",
      " [1.8 2.2]\n",
      " [2.6 3. ]]\n"
     ]
    }
   ],
   "source": [
    "arrLin = np.linspace(1,3,num=6).reshape(3,2)\n",
    "print(arrLin)"
   ]
  },
  {
   "cell_type": "markdown",
   "id": "9bbb8a1c-03cd-49d3-b8d9-5da3f0afe7d5",
   "metadata": {},
   "source": [
    "# Numpy Array With Random Numbers "
   ]
  },
  {
   "cell_type": "markdown",
   "id": "89ab965b-5a4f-4a7f-9e1b-ac2f5d0a22c4",
   "metadata": {},
   "source": [
    "# Rand() : It Gives Array With random value between 0 to 1 , only Positive Values"
   ]
  },
  {
   "cell_type": "code",
   "execution_count": 62,
   "id": "68793596-b759-44f3-b8bb-17f7f612438b",
   "metadata": {},
   "outputs": [
    {
     "name": "stdout",
     "output_type": "stream",
     "text": [
      "[[[0.61 0.74 0.08 0.12 0.85 0.72]\n",
      "  [0.04 0.34 0.51 0.92 0.82 0.76]\n",
      "  [0.81 0.94 0.27 0.31 0.56 0.03]\n",
      "  [0.2  0.13 0.5  0.87 0.05 0.8 ]\n",
      "  [0.23 0.43 0.49 0.94 0.38 0.51]]\n",
      "\n",
      " [[0.94 0.1  0.63 0.02 0.05 0.22]\n",
      "  [0.45 0.73 0.38 0.7  0.56 0.46]\n",
      "  [0.22 0.6  0.42 0.54 0.34 0.15]\n",
      "  [0.66 0.21 0.9  0.31 0.24 0.6 ]\n",
      "  [0.67 0.18 0.89 0.15 0.46 0.18]]]\n"
     ]
    }
   ],
   "source": [
    "arrRand = np.round(np.random.rand(2,5,6),2)\n",
    "print(arrRand)"
   ]
  },
  {
   "cell_type": "markdown",
   "id": "251d4c9d-2116-4a29-bea6-37d5dee6b5c6",
   "metadata": {},
   "source": [
    "# Randn() : It can Give both negative and positive value Close To Zero"
   ]
  },
  {
   "cell_type": "code",
   "execution_count": 64,
   "id": "664a79ed-31c8-47da-af68-e5b14f514f4b",
   "metadata": {},
   "outputs": [
    {
     "name": "stdout",
     "output_type": "stream",
     "text": [
      "[[ 1.12 -0.79]\n",
      " [-1.31 -0.91]\n",
      " [-2.29  1.43]\n",
      " [ 1.76  0.25]]\n"
     ]
    }
   ],
   "source": [
    "arrRandn = np.round(np.random.randn(4,2),2)\n",
    "print(arrRandn)"
   ]
  },
  {
   "cell_type": "markdown",
   "id": "d406123c-8275-45fc-a35a-57def01e9bdd",
   "metadata": {},
   "source": [
    "# Ranf() "
   ]
  },
  {
   "cell_type": "code",
   "execution_count": 69,
   "id": "cf250ce8-e70b-4df4-b87d-4e8a2bc0f466",
   "metadata": {},
   "outputs": [
    {
     "name": "stdout",
     "output_type": "stream",
     "text": [
      "[0.959236   0.64679331 0.70563958 0.35728422]\n"
     ]
    }
   ],
   "source": [
    "arrRandf = np.random.ranf(4)\n",
    "print(arrRandf)"
   ]
  },
  {
   "cell_type": "markdown",
   "id": "9378d806-1dad-4448-afb9-a9beb78fe796",
   "metadata": {},
   "source": [
    "# Randint()"
   ]
  },
  {
   "cell_type": "code",
   "execution_count": 75,
   "id": "d3c13363-ed8d-421a-9007-69f5fe4a2131",
   "metadata": {},
   "outputs": [
    {
     "name": "stdout",
     "output_type": "stream",
     "text": [
      "[ 5 17 15 18 10]\n"
     ]
    }
   ],
   "source": [
    "arrRint = np.random.randint(5,20,5)\n",
    "print(arrRint)"
   ]
  },
  {
   "cell_type": "code",
   "execution_count": null,
   "id": "7645da1f-586d-42a5-9ed0-64a55902d882",
   "metadata": {},
   "outputs": [],
   "source": []
  }
 ],
 "metadata": {
  "kernelspec": {
   "display_name": "Python 3 (ipykernel)",
   "language": "python",
   "name": "python3"
  },
  "language_info": {
   "codemirror_mode": {
    "name": "ipython",
    "version": 3
   },
   "file_extension": ".py",
   "mimetype": "text/x-python",
   "name": "python",
   "nbconvert_exporter": "python",
   "pygments_lexer": "ipython3",
   "version": "3.11.11"
  }
 },
 "nbformat": 4,
 "nbformat_minor": 5
}

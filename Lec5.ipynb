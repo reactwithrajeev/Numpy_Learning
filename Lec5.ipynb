{
 "cells": [
  {
   "cell_type": "markdown",
   "id": "5ab93537-0737-43ef-9237-01895bad5796",
   "metadata": {},
   "source": [
    "# Diff Between Copy & View"
   ]
  },
  {
   "cell_type": "code",
   "execution_count": 1,
   "id": "e33328ed-24e5-43aa-84ef-5b6d8340f066",
   "metadata": {},
   "outputs": [],
   "source": [
    "import numpy as np\n"
   ]
  },
  {
   "cell_type": "markdown",
   "id": "1b5f1718-92c3-463e-88a1-ee31e5da88dd",
   "metadata": {},
   "source": [
    "# Copy"
   ]
  },
  {
   "cell_type": "code",
   "execution_count": 4,
   "id": "0be72177-2ec7-41aa-ae07-b585dd9b9821",
   "metadata": {},
   "outputs": [
    {
     "name": "stdout",
     "output_type": "stream",
     "text": [
      "UniAar : [1 2 4 5 6]\n",
      "uaCopy : [1 2 4 5 6]\n",
      "uaC : [1 2 4 5 6]\n"
     ]
    }
   ],
   "source": [
    "uniArr = np.array([1,2,4,5,6])\n",
    "uaCopy = np.copy(uniArr);\n",
    "uaC = uniArr.copy()\n",
    "print('UniAar :',uniArr);\n",
    "print('uaCopy :',uaCopy);\n",
    "print('uaC :',uaC);"
   ]
  },
  {
   "cell_type": "code",
   "execution_count": 5,
   "id": "738aa0dd-5adf-426a-a50c-1f2f010dfda1",
   "metadata": {},
   "outputs": [
    {
     "name": "stdout",
     "output_type": "stream",
     "text": [
      "view : [1 2 4 5 6]\n"
     ]
    }
   ],
   "source": [
    "viewArr = uniArr.view()\n",
    "print('view :', viewArr)"
   ]
  },
  {
   "cell_type": "code",
   "execution_count": null,
   "id": "83336630-1cfc-4c7f-9640-7dce45bb70d6",
   "metadata": {},
   "outputs": [],
   "source": []
  },
  {
   "cell_type": "markdown",
   "id": "5fbaf99e-b2bd-43a3-a765-24cd1ba5caf5",
   "metadata": {},
   "source": [
    "# Diffrence Between Copy & View Is \n",
    "# --> Copy Owns The Data Views Don't,\n",
    "# --> It Generates new Array Views Don't,\n",
    "# --> Changes Made in Copy does Not reflect in original array , but if we make change in views it reflects in original array"
   ]
  },
  {
   "cell_type": "markdown",
   "id": "e77586cf-3e1e-46de-b804-c9a7cb916ac2",
   "metadata": {},
   "source": [
    "# -----------------------------------------------------------------------------------"
   ]
  },
  {
   "cell_type": "markdown",
   "id": "3a217200-f24b-4278-8c08-2e8d4dc97d40",
   "metadata": {},
   "source": [
    "# Joins And Split "
   ]
  },
  {
   "cell_type": "code",
   "execution_count": 7,
   "id": "fdc8fdaf-1d3f-4a53-8be0-20b42b227e81",
   "metadata": {},
   "outputs": [],
   "source": [
    "var1 = np.array([1,2,3,4])\n",
    "var2 = np.array([1,2,3,4,5,6])\n",
    "\n"
   ]
  },
  {
   "cell_type": "markdown",
   "id": "8f4397fd-1e67-4f8c-9639-e4b82118475e",
   "metadata": {},
   "source": [
    "# Joins"
   ]
  },
  {
   "cell_type": "code",
   "execution_count": 9,
   "id": "2f690295-ffea-4d56-9ad7-14c2387b254b",
   "metadata": {},
   "outputs": [
    {
     "name": "stdout",
     "output_type": "stream",
     "text": [
      "[1 2 3 4 1 2 3 4 5 6]\n"
     ]
    }
   ],
   "source": [
    "joinArr = np.concatenate((var1,var2))\n",
    "print(joinArr)"
   ]
  },
  {
   "cell_type": "code",
   "execution_count": 18,
   "id": "a1e12562-7f25-4a30-b9ce-9371fb4fa16a",
   "metadata": {},
   "outputs": [
    {
     "name": "stdout",
     "output_type": "stream",
     "text": [
      "[[1 2 3]\n",
      " [4 5 6]]\n",
      "---------------------------\n",
      "[[ 7  8  9]\n",
      " [10 20 30]]\n",
      "---------------------------\n",
      "[[ 1  2  3  7  8  9]\n",
      " [ 4  5  6 10 20 30]]\n"
     ]
    }
   ],
   "source": [
    "var3 = np.array([[1,2,3],[4,5,6]])\n",
    "var4 = np.array([[7,8,9],[10,20,30]])\n",
    "\n",
    "joinArr2 = np.concatenate((var3,var4), axis=1)\n",
    "print(var3)\n",
    "print('---------------------------')\n",
    "print(var4)\n",
    "print('---------------------------')\n",
    "print(joinArr2)\n"
   ]
  },
  {
   "cell_type": "markdown",
   "id": "35d45bc0-e430-4a58-a549-8df01924a50b",
   "metadata": {},
   "source": [
    "# Using Stack"
   ]
  },
  {
   "cell_type": "code",
   "execution_count": 22,
   "id": "5bf9104f-aa91-4c33-a8fd-f3f1fc0e67ed",
   "metadata": {},
   "outputs": [
    {
     "name": "stdout",
     "output_type": "stream",
     "text": [
      "[[1 2 3]\n",
      " [4 5 6]]\n",
      "---------------------------\n",
      "[[ 7  8  9]\n",
      " [10 20 30]]\n",
      "---------------------------\n",
      "[[[ 1  2  3]\n",
      "  [ 7  8  9]]\n",
      "\n",
      " [[ 4  5  6]\n",
      "  [10 20 30]]]\n",
      "(2, 2, 3)\n"
     ]
    }
   ],
   "source": [
    "stArr = np.stack((var3,var4), axis=1)\n",
    "print(var3)\n",
    "print('---------------------------')\n",
    "print(var4)\n",
    "print('---------------------------')\n",
    "print(stArr)\n",
    "print(stArr.shape)"
   ]
  },
  {
   "cell_type": "markdown",
   "id": "dcf512f5-7a9c-45c0-831b-8b4d1aa4b541",
   "metadata": {},
   "source": [
    "# usng hstack"
   ]
  },
  {
   "cell_type": "code",
   "execution_count": 28,
   "id": "81fb3a14-88b9-4bac-bfd5-9053e5c1675e",
   "metadata": {},
   "outputs": [
    {
     "name": "stdout",
     "output_type": "stream",
     "text": [
      "[[1 2 3]\n",
      " [4 5 6]]\n",
      "---------------------------\n",
      "[[ 7  8  9]\n",
      " [10 20 30]]\n",
      "---------------------------\n",
      "[[ 1  2  3  7  8  9]\n",
      " [ 4  5  6 10 20 30]]\n",
      "(2, 6)\n"
     ]
    }
   ],
   "source": [
    "stArr2 = np.hstack((var3,var4))\n",
    "print(var3)\n",
    "print('---------------------------')\n",
    "print(var4)\n",
    "print('---------------------------')\n",
    "print(stArr2)\n",
    "print(stArr2.shape)"
   ]
  },
  {
   "cell_type": "markdown",
   "id": "56126251-975d-4a21-8de9-9fda626d2793",
   "metadata": {},
   "source": [
    "# Using Vstack"
   ]
  },
  {
   "cell_type": "code",
   "execution_count": 27,
   "id": "f06eaf43-a748-406f-aba7-4f70443e6377",
   "metadata": {},
   "outputs": [
    {
     "name": "stdout",
     "output_type": "stream",
     "text": [
      "[[1 2 3]\n",
      " [4 5 6]]\n",
      "---------------------------\n",
      "[[ 7  8  9]\n",
      " [10 20 30]]\n",
      "---------------------------\n",
      "[[ 1  2  3]\n",
      " [ 4  5  6]\n",
      " [ 7  8  9]\n",
      " [10 20 30]]\n",
      "(4, 3)\n"
     ]
    }
   ],
   "source": [
    "stArr3 = np.vstack((var3,var4))\n",
    "print(var3)\n",
    "print('---------------------------')\n",
    "print(var4)\n",
    "print('---------------------------')\n",
    "print(stArr3)\n",
    "print(stArr3.shape)"
   ]
  },
  {
   "cell_type": "markdown",
   "id": "1976ca81-8ffe-49ed-9adb-3037e64472fa",
   "metadata": {},
   "source": [
    "# Split Array "
   ]
  },
  {
   "cell_type": "code",
   "execution_count": 32,
   "id": "afaa8a92-3fd2-4d27-84c3-265d44cd776e",
   "metadata": {},
   "outputs": [
    {
     "name": "stdout",
     "output_type": "stream",
     "text": [
      "[array([4, 5]), array([6, 7])] <class 'list'>\n"
     ]
    }
   ],
   "source": [
    "spArr = np.array([4,5,6,7])\n",
    "\n",
    "newSp = np.split(spArr,2)\n",
    "print(newSp, type(newSp))"
   ]
  },
  {
   "cell_type": "code",
   "execution_count": 39,
   "id": "97af1ba8-216f-4a39-949d-f23b0e24720b",
   "metadata": {},
   "outputs": [
    {
     "name": "stdout",
     "output_type": "stream",
     "text": [
      "[array([[1],\n",
      "       [6]]), array([[2],\n",
      "       [7]]), array([[3],\n",
      "       [8]]), array([[4],\n",
      "       [9]]), array([[ 5],\n",
      "       [10]])] <class 'list'>\n"
     ]
    }
   ],
   "source": [
    "spArr2 = np.array([[1,2,3,4,5],[6,7,8,9,10]])\n",
    "\n",
    "newSp2 = np.split(spArr2,5, axis=1)\n",
    "print(newSp2, type(newSp2))"
   ]
  },
  {
   "cell_type": "code",
   "execution_count": 40,
   "id": "4838b529-c7d4-499f-a4db-c36d90bf3d1d",
   "metadata": {},
   "outputs": [
    {
     "name": "stdout",
     "output_type": "stream",
     "text": [
      "[array([[1, 2, 3, 4, 5]]), array([[ 6,  7,  8,  9, 10]]), array([], shape=(0, 5), dtype=int64), array([], shape=(0, 5), dtype=int64)]\n"
     ]
    }
   ],
   "source": [
    "newSp3 = np.array_split(spArr2,4)\n",
    "print(newSp3)"
   ]
  },
  {
   "cell_type": "code",
   "execution_count": null,
   "id": "4d83d73f-6630-456c-ba1b-5a298eb96734",
   "metadata": {},
   "outputs": [],
   "source": []
  }
 ],
 "metadata": {
  "kernelspec": {
   "display_name": "Python 3 (ipykernel)",
   "language": "python",
   "name": "python3"
  },
  "language_info": {
   "codemirror_mode": {
    "name": "ipython",
    "version": 3
   },
   "file_extension": ".py",
   "mimetype": "text/x-python",
   "name": "python",
   "nbconvert_exporter": "python",
   "pygments_lexer": "ipython3",
   "version": "3.11.11"
  }
 },
 "nbformat": 4,
 "nbformat_minor": 5
}

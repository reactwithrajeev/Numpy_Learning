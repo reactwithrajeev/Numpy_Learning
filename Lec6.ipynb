{
 "cells": [
  {
   "cell_type": "markdown",
   "id": "38bcdd7d-fba9-4a67-b63b-b48c286549c2",
   "metadata": {},
   "source": [
    "# Function In Numpy Array\n"
   ]
  },
  {
   "cell_type": "markdown",
   "id": "e5d2b8e4-0170-4205-a1ef-3ab5b868625c",
   "metadata": {},
   "source": [
    "# Search Function : Search An array for a certain value , and return the indexes that get a match"
   ]
  },
  {
   "cell_type": "code",
   "execution_count": 1,
   "id": "67685439-0760-423c-b90f-148001bea038",
   "metadata": {},
   "outputs": [],
   "source": [
    "import numpy as np"
   ]
  },
  {
   "cell_type": "markdown",
   "id": "3d2146ae-e06f-45c6-ab19-60855767370f",
   "metadata": {},
   "source": [
    "# np.Where()"
   ]
  },
  {
   "cell_type": "code",
   "execution_count": 2,
   "id": "3a0eb706-f941-4850-a752-c946b42cb7ac",
   "metadata": {},
   "outputs": [
    {
     "name": "stdout",
     "output_type": "stream",
     "text": [
      "(array([1]),)\n"
     ]
    }
   ],
   "source": [
    "sArr = np.array([1,2,3,4,5])\n",
    "\n",
    "x = np.where( sArr == 2)\n",
    "print(x)"
   ]
  },
  {
   "cell_type": "markdown",
   "id": "c25f80cf-f8cc-4207-a6fa-b82f70028379",
   "metadata": {},
   "source": [
    " # np.searchsorted()"
   ]
  },
  {
   "cell_type": "code",
   "execution_count": 9,
   "id": "3540b998-c20d-46a7-968d-fa0f162def4d",
   "metadata": {},
   "outputs": [
    {
     "name": "stdout",
     "output_type": "stream",
     "text": [
      "index (0,) : 8\n",
      "index (1,) : 4\n",
      "index (2,) : 5\n",
      "index (3,) : 7\n",
      "index (4,) : 9\n",
      "index (5,) : 6\n",
      "index (6,) : 1\n",
      "index (7,) : 2\n",
      "index (8,) : 4\n",
      "Sorted array: [1 2 4 4 5 6 7 8 9]\n",
      "Index to insert 8: 7\n"
     ]
    }
   ],
   "source": [
    "import numpy as np\n",
    "\n",
    "sArr2 = np.array([8, 4, 5, 7, 9, 6, 1, 2, 4])\n",
    "\n",
    "for idx, val in np.ndenumerate(sArr2):\n",
    "    print(f'index {idx} : {val}')\n",
    "\n",
    "sArr2.sort()  # sort it first\n",
    "print(\"Sorted array:\", sArr2)\n",
    "\n",
    "y = np.searchsorted(sArr2, 8)  # now search in sorted array\n",
    "print(\"Index to insert 8:\", y)\n"
   ]
  },
  {
   "cell_type": "markdown",
   "id": "7326d364-2745-4687-9cdf-ec4f9dd30097",
   "metadata": {},
   "source": [
    "# Bloolean search"
   ]
  },
  {
   "cell_type": "code",
   "execution_count": 10,
   "id": "ddca3281-c56a-448d-8229-9b6710cbe096",
   "metadata": {},
   "outputs": [
    {
     "name": "stdout",
     "output_type": "stream",
     "text": [
      "[5 6 7 8 9]\n"
     ]
    }
   ],
   "source": [
    "print(sArr2[sArr2>4])"
   ]
  },
  {
   "cell_type": "markdown",
   "id": "0e3928e1-15ef-4c86-8f0f-130d4a060bc5",
   "metadata": {},
   "source": [
    "# Sorted Array "
   ]
  },
  {
   "cell_type": "code",
   "execution_count": 11,
   "id": "b115042b-d45a-4232-b772-76d7dd37b260",
   "metadata": {},
   "outputs": [
    {
     "name": "stdout",
     "output_type": "stream",
     "text": [
      "[1 2 4 4 5 6 7 8 9]\n"
     ]
    }
   ],
   "source": [
    "print(np.sort(sArr2))"
   ]
  },
  {
   "cell_type": "code",
   "execution_count": 12,
   "id": "bda2e6d7-9bbc-419a-b7e1-8d138ecab3ce",
   "metadata": {},
   "outputs": [
    {
     "name": "stdout",
     "output_type": "stream",
     "text": [
      "['d' 'd' 'g' 'r' 's' 't' 'u']\n"
     ]
    }
   ],
   "source": [
    "strArr = np.array(['s','d','r','g','t','d','u'])\n",
    "print(np.sort(strArr))"
   ]
  },
  {
   "cell_type": "markdown",
   "id": "f72ab688-5e29-4c8b-afd1-50b34042ff39",
   "metadata": {},
   "source": [
    "# Filter Function"
   ]
  },
  {
   "cell_type": "code",
   "execution_count": 14,
   "id": "78b480d7-7866-48bc-8a18-3317446bf965",
   "metadata": {},
   "outputs": [
    {
     "name": "stdout",
     "output_type": "stream",
     "text": [
      "[ 2  4  6  8 12 14 16]\n"
     ]
    }
   ],
   "source": [
    "fArr = np.array([2,4,5,6,8,9,7,3,12,14,16])\n",
    "fliterFun = fArr%2==0\n",
    "filtered = fArr[fliterFun]\n",
    "print(filtered)"
   ]
  },
  {
   "cell_type": "markdown",
   "id": "c2a066f1-ca88-4aa8-befb-ee4a3c042715",
   "metadata": {},
   "source": [
    "# -----------------------------------"
   ]
  },
  {
   "cell_type": "markdown",
   "id": "f297d0dc-6c43-4c2f-9c2e-0d99353dcb84",
   "metadata": {},
   "source": [
    "# Arithmatic Function In Numpy Array"
   ]
  },
  {
   "cell_type": "markdown",
   "id": "aac3fb60-d118-41c6-ab86-bcd46c3a0703",
   "metadata": {},
   "source": [
    "# Shuffle()"
   ]
  },
  {
   "cell_type": "code",
   "execution_count": 16,
   "id": "827caca6-e6ee-4faf-8068-12e4f5f43bf3",
   "metadata": {},
   "outputs": [
    {
     "name": "stdout",
     "output_type": "stream",
     "text": [
      "[2 4 5 3 1]\n"
     ]
    }
   ],
   "source": [
    "uniArr = np.array([1,2,3,4,5])\n",
    "np.random.shuffle(uniArr)\n",
    "print(uniArr)"
   ]
  },
  {
   "cell_type": "markdown",
   "id": "ab0915c3-1ff5-4ee4-b32f-d67db0d39b0c",
   "metadata": {},
   "source": [
    "# unique()"
   ]
  },
  {
   "cell_type": "code",
   "execution_count": 18,
   "id": "dd56093d-c7cf-4065-bcb5-4d869eb3c8cc",
   "metadata": {},
   "outputs": [
    {
     "name": "stdout",
     "output_type": "stream",
     "text": [
      "(array([1, 2, 3, 4, 5, 6, 7, 8, 9]), array([2, 2, 1, 2, 2, 1, 1, 1, 1]))\n"
     ]
    }
   ],
   "source": [
    "uniArr2 = np.array([4,2,1,4,2,3,5,1,6,7,8,5,9])\n",
    "x = np.unique(uniArr2, return_counts=True)\n",
    "print(x)"
   ]
  },
  {
   "cell_type": "markdown",
   "id": "28195f51-7351-4d4b-977c-7ee8d04cd7a1",
   "metadata": {},
   "source": [
    "# Ressize ()"
   ]
  },
  {
   "cell_type": "code",
   "execution_count": 21,
   "id": "80ee5960-dd6c-4a1a-993e-1872a6c4d20e",
   "metadata": {},
   "outputs": [
    {
     "name": "stdout",
     "output_type": "stream",
     "text": [
      "[[1 2 3 4]\n",
      " [5 6 7 8]]\n",
      "--------------\n",
      "[1 2 3 4 5 6 7 8]\n"
     ]
    }
   ],
   "source": [
    "uniArr3 = np.array([1,2,3,4,5,6,7,8])\n",
    "y = np.resize(uniArr3,(2,4))\n",
    "print(y)\n",
    "print('--------------')\n",
    "print(uniArr3)"
   ]
  },
  {
   "cell_type": "markdown",
   "id": "3e5722d9-f08a-44e9-aea3-7fe935d9624b",
   "metadata": {},
   "source": [
    "# flatten ()"
   ]
  },
  {
   "cell_type": "code",
   "execution_count": 26,
   "id": "a63889fd-2358-4c27-8083-4dc3e1b46a40",
   "metadata": {},
   "outputs": [
    {
     "name": "stdout",
     "output_type": "stream",
     "text": [
      "[1 2 3 4 5 6 7 8]\n",
      "[180   2   3   4   5   6   7   8]\n",
      "[[1 2 3 4]\n",
      " [5 6 7 8]]\n"
     ]
    }
   ],
   "source": [
    "fArr = np.array([[1,2,3,4],[5,6,7,8]])\n",
    "flattenArr = fArr.flatten()\n",
    "print(flattenArr)\n",
    "flattenArr[0]=180\n",
    "print(flattenArr)\n",
    "print(fArr)"
   ]
  },
  {
   "cell_type": "markdown",
   "id": "fd08e2b8-f4cf-448a-924a-799852fa5cf5",
   "metadata": {},
   "source": [
    "# Ravel ()"
   ]
  },
  {
   "cell_type": "code",
   "execution_count": 28,
   "id": "3526df22-6d87-4f46-8d67-23c32a2ad0f0",
   "metadata": {},
   "outputs": [
    {
     "name": "stdout",
     "output_type": "stream",
     "text": [
      "[1 2 3 4 5 6 7 8]\n",
      "[180   2   3   4   5   6   7   8]\n",
      "[[180   2   3   4]\n",
      " [  5   6   7   8]]\n"
     ]
    }
   ],
   "source": [
    "rArr = np.array([[1,2,3,4],[5,6,7,8]])\n",
    "ravelArr = rArr.ravel()\n",
    "print(ravelArr)\n",
    "ravelArr[0]=180\n",
    "print(ravelArr)\n",
    "print(rArr)"
   ]
  },
  {
   "cell_type": "markdown",
   "id": "cb3fee57-acfd-4b22-ad78-aba560b5700d",
   "metadata": {},
   "source": [
    "# Insert ()"
   ]
  },
  {
   "cell_type": "code",
   "execution_count": 32,
   "id": "7e2b47d7-0f4b-47b4-8a4e-13d30b9430fe",
   "metadata": {},
   "outputs": [
    {
     "name": "stdout",
     "output_type": "stream",
     "text": [
      "[ 1  2  3 25  4  5  6  7  8  9]\n",
      "[ 1  2  3  4  5  6  7  8  9 10 11 12]\n"
     ]
    }
   ],
   "source": [
    "inArr = np.array([1,2,3,4,5,6,7,8,9])\n",
    "a = np.insert(inArr,3,25)\n",
    "b = np.insert(inArr,9,(10,11,12))\n",
    "print(a)\n",
    "print(b)"
   ]
  },
  {
   "cell_type": "code",
   "execution_count": 37,
   "id": "bb066ec8-84c2-4c1a-8418-09c5696c8968",
   "metadata": {},
   "outputs": [
    {
     "name": "stdout",
     "output_type": "stream",
     "text": [
      "[[ 1  2  3]\n",
      " [ 4  5  6]\n",
      " [18 18 18]]\n"
     ]
    }
   ],
   "source": [
    "inArr2 = np.array([[1,2,3],[4,5,6]])\n",
    "\n",
    "c = np.insert(inArr2,2,18, axis=0)\n",
    "print(c)"
   ]
  },
  {
   "cell_type": "markdown",
   "id": "17bd6659-0abd-48a3-b4e7-a17a1d34ef62",
   "metadata": {},
   "source": [
    "# Delete ()"
   ]
  },
  {
   "cell_type": "code",
   "execution_count": 38,
   "id": "fb32c53e-e52d-4157-9472-ebf5f882d2d7",
   "metadata": {},
   "outputs": [
    {
     "name": "stdout",
     "output_type": "stream",
     "text": [
      "[1 2 3 4 6 7 8 9]\n"
     ]
    }
   ],
   "source": [
    "delArr= np.array([1,2,3,4,5,6,7,8,9])\n",
    "\n",
    "d = np.delete(delArr,4)\n",
    "print(d)"
   ]
  },
  {
   "cell_type": "code",
   "execution_count": null,
   "id": "70d4fa76-1298-4ee3-adee-f6e00a395025",
   "metadata": {},
   "outputs": [],
   "source": []
  }
 ],
 "metadata": {
  "kernelspec": {
   "display_name": "Python 3 (ipykernel)",
   "language": "python",
   "name": "python3"
  },
  "language_info": {
   "codemirror_mode": {
    "name": "ipython",
    "version": 3
   },
   "file_extension": ".py",
   "mimetype": "text/x-python",
   "name": "python",
   "nbconvert_exporter": "python",
   "pygments_lexer": "ipython3",
   "version": "3.11.11"
  }
 },
 "nbformat": 4,
 "nbformat_minor": 5
}
